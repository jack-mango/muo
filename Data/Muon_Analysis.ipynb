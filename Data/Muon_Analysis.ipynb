{
 "cells": [
  {
   "cell_type": "code",
   "execution_count": 4,
   "id": "e474d4d0",
   "metadata": {},
   "outputs": [
    {
     "ename": "FileNotFoundError",
     "evalue": "[Errno 2] No such file or directory: 'Data/Clock_Callibration_1.txt'",
     "output_type": "error",
     "traceback": [
      "\u001b[0;31m---------------------------------------------------------------------------\u001b[0m",
      "\u001b[0;31mFileNotFoundError\u001b[0m                         Traceback (most recent call last)",
      "\u001b[1;32m/Users/jackmango/Downloads/Muon_Analysis.ipynb Cell 1\u001b[0m line \u001b[0;36m6\n\u001b[1;32m      <a href='vscode-notebook-cell:/Users/jackmango/Downloads/Muon_Analysis.ipynb#W0sZmlsZQ%3D%3D?line=2'>3</a>\u001b[0m \u001b[39mimport\u001b[39;00m \u001b[39mnumpy\u001b[39;00m \u001b[39mas\u001b[39;00m \u001b[39mnp\u001b[39;00m\n\u001b[1;32m      <a href='vscode-notebook-cell:/Users/jackmango/Downloads/Muon_Analysis.ipynb#W0sZmlsZQ%3D%3D?line=3'>4</a>\u001b[0m \u001b[39mfrom\u001b[39;00m \u001b[39mscipy\u001b[39;00m\u001b[39m.\u001b[39;00m\u001b[39moptimize\u001b[39;00m \u001b[39mimport\u001b[39;00m curve_fit\n\u001b[0;32m----> <a href='vscode-notebook-cell:/Users/jackmango/Downloads/Muon_Analysis.ipynb#W0sZmlsZQ%3D%3D?line=5'>6</a>\u001b[0m clock_2 \u001b[39m=\u001b[39m pd\u001b[39m.\u001b[39;49mread_csv(\u001b[39m\"\u001b[39;49m\u001b[39mData/Clock_Callibration_1.txt\u001b[39;49m\u001b[39m\"\u001b[39;49m, sep \u001b[39m=\u001b[39;49m \u001b[39m\"\u001b[39;49m\u001b[39m\t\u001b[39;49m\u001b[39m\"\u001b[39;49m)\n\u001b[1;32m      <a href='vscode-notebook-cell:/Users/jackmango/Downloads/Muon_Analysis.ipynb#W0sZmlsZQ%3D%3D?line=6'>7</a>\u001b[0m clock_4 \u001b[39m=\u001b[39m pd\u001b[39m.\u001b[39mread_csv(\u001b[39m\"\u001b[39m\u001b[39mData/Clock_Callibration_4.txt\u001b[39m\u001b[39m\"\u001b[39m, sep \u001b[39m=\u001b[39m \u001b[39m\"\u001b[39m\u001b[39m\t\u001b[39m\u001b[39m\"\u001b[39m)\n\u001b[1;32m      <a href='vscode-notebook-cell:/Users/jackmango/Downloads/Muon_Analysis.ipynb#W0sZmlsZQ%3D%3D?line=7'>8</a>\u001b[0m clock_8 \u001b[39m=\u001b[39m pd\u001b[39m.\u001b[39mread_csv(\u001b[39m\"\u001b[39m\u001b[39mData/Clock_Callibration_8.txt\u001b[39m\u001b[39m\"\u001b[39m, sep \u001b[39m=\u001b[39m \u001b[39m\"\u001b[39m\u001b[39m\t\u001b[39m\u001b[39m\"\u001b[39m)\n",
      "File \u001b[0;32m/opt/anaconda3/lib/python3.8/site-packages/pandas/util/_decorators.py:211\u001b[0m, in \u001b[0;36mdeprecate_kwarg.<locals>._deprecate_kwarg.<locals>.wrapper\u001b[0;34m(*args, **kwargs)\u001b[0m\n\u001b[1;32m    209\u001b[0m     \u001b[39melse\u001b[39;00m:\n\u001b[1;32m    210\u001b[0m         kwargs[new_arg_name] \u001b[39m=\u001b[39m new_arg_value\n\u001b[0;32m--> 211\u001b[0m \u001b[39mreturn\u001b[39;00m func(\u001b[39m*\u001b[39;49margs, \u001b[39m*\u001b[39;49m\u001b[39m*\u001b[39;49mkwargs)\n",
      "File \u001b[0;32m/opt/anaconda3/lib/python3.8/site-packages/pandas/util/_decorators.py:331\u001b[0m, in \u001b[0;36mdeprecate_nonkeyword_arguments.<locals>.decorate.<locals>.wrapper\u001b[0;34m(*args, **kwargs)\u001b[0m\n\u001b[1;32m    325\u001b[0m \u001b[39mif\u001b[39;00m \u001b[39mlen\u001b[39m(args) \u001b[39m>\u001b[39m num_allow_args:\n\u001b[1;32m    326\u001b[0m     warnings\u001b[39m.\u001b[39mwarn(\n\u001b[1;32m    327\u001b[0m         msg\u001b[39m.\u001b[39mformat(arguments\u001b[39m=\u001b[39m_format_argument_list(allow_args)),\n\u001b[1;32m    328\u001b[0m         \u001b[39mFutureWarning\u001b[39;00m,\n\u001b[1;32m    329\u001b[0m         stacklevel\u001b[39m=\u001b[39mfind_stack_level(),\n\u001b[1;32m    330\u001b[0m     )\n\u001b[0;32m--> 331\u001b[0m \u001b[39mreturn\u001b[39;00m func(\u001b[39m*\u001b[39;49margs, \u001b[39m*\u001b[39;49m\u001b[39m*\u001b[39;49mkwargs)\n",
      "File \u001b[0;32m/opt/anaconda3/lib/python3.8/site-packages/pandas/io/parsers/readers.py:950\u001b[0m, in \u001b[0;36mread_csv\u001b[0;34m(filepath_or_buffer, sep, delimiter, header, names, index_col, usecols, squeeze, prefix, mangle_dupe_cols, dtype, engine, converters, true_values, false_values, skipinitialspace, skiprows, skipfooter, nrows, na_values, keep_default_na, na_filter, verbose, skip_blank_lines, parse_dates, infer_datetime_format, keep_date_col, date_parser, dayfirst, cache_dates, iterator, chunksize, compression, thousands, decimal, lineterminator, quotechar, quoting, doublequote, escapechar, comment, encoding, encoding_errors, dialect, error_bad_lines, warn_bad_lines, on_bad_lines, delim_whitespace, low_memory, memory_map, float_precision, storage_options)\u001b[0m\n\u001b[1;32m    935\u001b[0m kwds_defaults \u001b[39m=\u001b[39m _refine_defaults_read(\n\u001b[1;32m    936\u001b[0m     dialect,\n\u001b[1;32m    937\u001b[0m     delimiter,\n\u001b[0;32m   (...)\u001b[0m\n\u001b[1;32m    946\u001b[0m     defaults\u001b[39m=\u001b[39m{\u001b[39m\"\u001b[39m\u001b[39mdelimiter\u001b[39m\u001b[39m\"\u001b[39m: \u001b[39m\"\u001b[39m\u001b[39m,\u001b[39m\u001b[39m\"\u001b[39m},\n\u001b[1;32m    947\u001b[0m )\n\u001b[1;32m    948\u001b[0m kwds\u001b[39m.\u001b[39mupdate(kwds_defaults)\n\u001b[0;32m--> 950\u001b[0m \u001b[39mreturn\u001b[39;00m _read(filepath_or_buffer, kwds)\n",
      "File \u001b[0;32m/opt/anaconda3/lib/python3.8/site-packages/pandas/io/parsers/readers.py:605\u001b[0m, in \u001b[0;36m_read\u001b[0;34m(filepath_or_buffer, kwds)\u001b[0m\n\u001b[1;32m    602\u001b[0m _validate_names(kwds\u001b[39m.\u001b[39mget(\u001b[39m\"\u001b[39m\u001b[39mnames\u001b[39m\u001b[39m\"\u001b[39m, \u001b[39mNone\u001b[39;00m))\n\u001b[1;32m    604\u001b[0m \u001b[39m# Create the parser.\u001b[39;00m\n\u001b[0;32m--> 605\u001b[0m parser \u001b[39m=\u001b[39m TextFileReader(filepath_or_buffer, \u001b[39m*\u001b[39;49m\u001b[39m*\u001b[39;49mkwds)\n\u001b[1;32m    607\u001b[0m \u001b[39mif\u001b[39;00m chunksize \u001b[39mor\u001b[39;00m iterator:\n\u001b[1;32m    608\u001b[0m     \u001b[39mreturn\u001b[39;00m parser\n",
      "File \u001b[0;32m/opt/anaconda3/lib/python3.8/site-packages/pandas/io/parsers/readers.py:1442\u001b[0m, in \u001b[0;36mTextFileReader.__init__\u001b[0;34m(self, f, engine, **kwds)\u001b[0m\n\u001b[1;32m   1439\u001b[0m     \u001b[39mself\u001b[39m\u001b[39m.\u001b[39moptions[\u001b[39m\"\u001b[39m\u001b[39mhas_index_names\u001b[39m\u001b[39m\"\u001b[39m] \u001b[39m=\u001b[39m kwds[\u001b[39m\"\u001b[39m\u001b[39mhas_index_names\u001b[39m\u001b[39m\"\u001b[39m]\n\u001b[1;32m   1441\u001b[0m \u001b[39mself\u001b[39m\u001b[39m.\u001b[39mhandles: IOHandles \u001b[39m|\u001b[39m \u001b[39mNone\u001b[39;00m \u001b[39m=\u001b[39m \u001b[39mNone\u001b[39;00m\n\u001b[0;32m-> 1442\u001b[0m \u001b[39mself\u001b[39m\u001b[39m.\u001b[39m_engine \u001b[39m=\u001b[39m \u001b[39mself\u001b[39;49m\u001b[39m.\u001b[39;49m_make_engine(f, \u001b[39mself\u001b[39;49m\u001b[39m.\u001b[39;49mengine)\n",
      "File \u001b[0;32m/opt/anaconda3/lib/python3.8/site-packages/pandas/io/parsers/readers.py:1735\u001b[0m, in \u001b[0;36mTextFileReader._make_engine\u001b[0;34m(self, f, engine)\u001b[0m\n\u001b[1;32m   1733\u001b[0m     \u001b[39mif\u001b[39;00m \u001b[39m\"\u001b[39m\u001b[39mb\u001b[39m\u001b[39m\"\u001b[39m \u001b[39mnot\u001b[39;00m \u001b[39min\u001b[39;00m mode:\n\u001b[1;32m   1734\u001b[0m         mode \u001b[39m+\u001b[39m\u001b[39m=\u001b[39m \u001b[39m\"\u001b[39m\u001b[39mb\u001b[39m\u001b[39m\"\u001b[39m\n\u001b[0;32m-> 1735\u001b[0m \u001b[39mself\u001b[39m\u001b[39m.\u001b[39mhandles \u001b[39m=\u001b[39m get_handle(\n\u001b[1;32m   1736\u001b[0m     f,\n\u001b[1;32m   1737\u001b[0m     mode,\n\u001b[1;32m   1738\u001b[0m     encoding\u001b[39m=\u001b[39;49m\u001b[39mself\u001b[39;49m\u001b[39m.\u001b[39;49moptions\u001b[39m.\u001b[39;49mget(\u001b[39m\"\u001b[39;49m\u001b[39mencoding\u001b[39;49m\u001b[39m\"\u001b[39;49m, \u001b[39mNone\u001b[39;49;00m),\n\u001b[1;32m   1739\u001b[0m     compression\u001b[39m=\u001b[39;49m\u001b[39mself\u001b[39;49m\u001b[39m.\u001b[39;49moptions\u001b[39m.\u001b[39;49mget(\u001b[39m\"\u001b[39;49m\u001b[39mcompression\u001b[39;49m\u001b[39m\"\u001b[39;49m, \u001b[39mNone\u001b[39;49;00m),\n\u001b[1;32m   1740\u001b[0m     memory_map\u001b[39m=\u001b[39;49m\u001b[39mself\u001b[39;49m\u001b[39m.\u001b[39;49moptions\u001b[39m.\u001b[39;49mget(\u001b[39m\"\u001b[39;49m\u001b[39mmemory_map\u001b[39;49m\u001b[39m\"\u001b[39;49m, \u001b[39mFalse\u001b[39;49;00m),\n\u001b[1;32m   1741\u001b[0m     is_text\u001b[39m=\u001b[39;49mis_text,\n\u001b[1;32m   1742\u001b[0m     errors\u001b[39m=\u001b[39;49m\u001b[39mself\u001b[39;49m\u001b[39m.\u001b[39;49moptions\u001b[39m.\u001b[39;49mget(\u001b[39m\"\u001b[39;49m\u001b[39mencoding_errors\u001b[39;49m\u001b[39m\"\u001b[39;49m, \u001b[39m\"\u001b[39;49m\u001b[39mstrict\u001b[39;49m\u001b[39m\"\u001b[39;49m),\n\u001b[1;32m   1743\u001b[0m     storage_options\u001b[39m=\u001b[39;49m\u001b[39mself\u001b[39;49m\u001b[39m.\u001b[39;49moptions\u001b[39m.\u001b[39;49mget(\u001b[39m\"\u001b[39;49m\u001b[39mstorage_options\u001b[39;49m\u001b[39m\"\u001b[39;49m, \u001b[39mNone\u001b[39;49;00m),\n\u001b[1;32m   1744\u001b[0m )\n\u001b[1;32m   1745\u001b[0m \u001b[39massert\u001b[39;00m \u001b[39mself\u001b[39m\u001b[39m.\u001b[39mhandles \u001b[39mis\u001b[39;00m \u001b[39mnot\u001b[39;00m \u001b[39mNone\u001b[39;00m\n\u001b[1;32m   1746\u001b[0m f \u001b[39m=\u001b[39m \u001b[39mself\u001b[39m\u001b[39m.\u001b[39mhandles\u001b[39m.\u001b[39mhandle\n",
      "File \u001b[0;32m/opt/anaconda3/lib/python3.8/site-packages/pandas/io/common.py:856\u001b[0m, in \u001b[0;36mget_handle\u001b[0;34m(path_or_buf, mode, encoding, compression, memory_map, is_text, errors, storage_options)\u001b[0m\n\u001b[1;32m    851\u001b[0m \u001b[39melif\u001b[39;00m \u001b[39misinstance\u001b[39m(handle, \u001b[39mstr\u001b[39m):\n\u001b[1;32m    852\u001b[0m     \u001b[39m# Check whether the filename is to be opened in binary mode.\u001b[39;00m\n\u001b[1;32m    853\u001b[0m     \u001b[39m# Binary mode does not support 'encoding' and 'newline'.\u001b[39;00m\n\u001b[1;32m    854\u001b[0m     \u001b[39mif\u001b[39;00m ioargs\u001b[39m.\u001b[39mencoding \u001b[39mand\u001b[39;00m \u001b[39m\"\u001b[39m\u001b[39mb\u001b[39m\u001b[39m\"\u001b[39m \u001b[39mnot\u001b[39;00m \u001b[39min\u001b[39;00m ioargs\u001b[39m.\u001b[39mmode:\n\u001b[1;32m    855\u001b[0m         \u001b[39m# Encoding\u001b[39;00m\n\u001b[0;32m--> 856\u001b[0m         handle \u001b[39m=\u001b[39m \u001b[39mopen\u001b[39;49m(\n\u001b[1;32m    857\u001b[0m             handle,\n\u001b[1;32m    858\u001b[0m             ioargs\u001b[39m.\u001b[39;49mmode,\n\u001b[1;32m    859\u001b[0m             encoding\u001b[39m=\u001b[39;49mioargs\u001b[39m.\u001b[39;49mencoding,\n\u001b[1;32m    860\u001b[0m             errors\u001b[39m=\u001b[39;49merrors,\n\u001b[1;32m    861\u001b[0m             newline\u001b[39m=\u001b[39;49m\u001b[39m\"\u001b[39;49m\u001b[39m\"\u001b[39;49m,\n\u001b[1;32m    862\u001b[0m         )\n\u001b[1;32m    863\u001b[0m     \u001b[39melse\u001b[39;00m:\n\u001b[1;32m    864\u001b[0m         \u001b[39m# Binary mode\u001b[39;00m\n\u001b[1;32m    865\u001b[0m         handle \u001b[39m=\u001b[39m \u001b[39mopen\u001b[39m(handle, ioargs\u001b[39m.\u001b[39mmode)\n",
      "\u001b[0;31mFileNotFoundError\u001b[0m: [Errno 2] No such file or directory: 'Data/Clock_Callibration_1.txt'"
     ]
    }
   ],
   "source": [
    "import pandas as pd\n",
    "import matplotlib.pyplot as plt\n",
    "import numpy as np\n",
    "from scipy.optimize import curve_fit\n",
    "  \n",
    "clock_2 = pd.read_csv(\"Data/Clock_Callibration_1.txt\", sep = \"\t\")\n",
    "clock_4 = pd.read_csv(\"Data/Clock_Callibration_4.txt\", sep = \"\t\")\n",
    "clock_8 = pd.read_csv(\"Data/Clock_Callibration_8.txt\", sep = \"\t\")\n",
    "clock_16 = pd.read_csv(\"Data/Clock_Callibration_16.txt\", sep = \"\t\")\n",
    "clock_32 = pd.read_csv(\"Data/Clock_Callibration_32.txt\", sep = \"\t\")\n",
    "clock_39 = pd.read_csv(\"Data/Clock_Callibration_39.txt\", sep = \"\t\")\n",
    "\n",
    "for col in clock_2.columns:\n",
    "    print(col)"
   ]
  },
  {
   "cell_type": "code",
   "execution_count": 2,
   "id": "5e4d295a",
   "metadata": {},
   "outputs": [
    {
     "data": {
      "text/html": [
       "<div>\n",
       "<style scoped>\n",
       "    .dataframe tbody tr th:only-of-type {\n",
       "        vertical-align: middle;\n",
       "    }\n",
       "\n",
       "    .dataframe tbody tr th {\n",
       "        vertical-align: top;\n",
       "    }\n",
       "\n",
       "    .dataframe thead th {\n",
       "        text-align: right;\n",
       "    }\n",
       "</style>\n",
       "<table border=\"1\" class=\"dataframe\">\n",
       "  <thead>\n",
       "    <tr style=\"text-align: right;\">\n",
       "      <th></th>\n",
       "      <th>Ch0_time1</th>\n",
       "      <th>Ch0_amp1(V)</th>\n",
       "      <th>Ch0_width1 (s)</th>\n",
       "      <th>Ch0_time2</th>\n",
       "      <th>Ch0_amp2 (V)</th>\n",
       "      <th>Ch0_width2 (s)</th>\n",
       "      <th>Ch1_time1(s)</th>\n",
       "      <th>Ch1_amp1 (V)</th>\n",
       "      <th>Ch1_width1 (s)</th>\n",
       "      <th>Ch1_time2 (s)</th>\n",
       "      <th>Ch1_amp2 (V)</th>\n",
       "      <th>Ch1_width2 (s)</th>\n",
       "    </tr>\n",
       "  </thead>\n",
       "  <tbody>\n",
       "    <tr>\n",
       "      <th>0</th>\n",
       "      <td>0.000005</td>\n",
       "      <td>0.328362</td>\n",
       "      <td>1.001826e-07</td>\n",
       "      <td>0.000008</td>\n",
       "      <td>0.367517</td>\n",
       "      <td>1.029213e-07</td>\n",
       "      <td>0.0</td>\n",
       "      <td>0.0</td>\n",
       "      <td>0.0</td>\n",
       "      <td>0.0</td>\n",
       "      <td>0.0</td>\n",
       "      <td>0.0</td>\n",
       "    </tr>\n",
       "    <tr>\n",
       "      <th>1</th>\n",
       "      <td>0.000005</td>\n",
       "      <td>0.327641</td>\n",
       "      <td>9.986208e-08</td>\n",
       "      <td>0.000008</td>\n",
       "      <td>0.368875</td>\n",
       "      <td>1.027111e-07</td>\n",
       "      <td>0.0</td>\n",
       "      <td>0.0</td>\n",
       "      <td>0.0</td>\n",
       "      <td>0.0</td>\n",
       "      <td>0.0</td>\n",
       "      <td>0.0</td>\n",
       "    </tr>\n",
       "    <tr>\n",
       "      <th>2</th>\n",
       "      <td>0.000005</td>\n",
       "      <td>0.327204</td>\n",
       "      <td>1.002890e-07</td>\n",
       "      <td>0.000008</td>\n",
       "      <td>0.368034</td>\n",
       "      <td>1.033971e-07</td>\n",
       "      <td>0.0</td>\n",
       "      <td>0.0</td>\n",
       "      <td>0.0</td>\n",
       "      <td>0.0</td>\n",
       "      <td>0.0</td>\n",
       "      <td>0.0</td>\n",
       "    </tr>\n",
       "    <tr>\n",
       "      <th>3</th>\n",
       "      <td>0.000005</td>\n",
       "      <td>0.326785</td>\n",
       "      <td>1.001914e-07</td>\n",
       "      <td>0.000008</td>\n",
       "      <td>0.363687</td>\n",
       "      <td>1.029283e-07</td>\n",
       "      <td>0.0</td>\n",
       "      <td>0.0</td>\n",
       "      <td>0.0</td>\n",
       "      <td>0.0</td>\n",
       "      <td>0.0</td>\n",
       "      <td>0.0</td>\n",
       "    </tr>\n",
       "    <tr>\n",
       "      <th>4</th>\n",
       "      <td>0.000005</td>\n",
       "      <td>0.323183</td>\n",
       "      <td>1.000695e-07</td>\n",
       "      <td>0.000008</td>\n",
       "      <td>0.368148</td>\n",
       "      <td>1.030929e-07</td>\n",
       "      <td>0.0</td>\n",
       "      <td>0.0</td>\n",
       "      <td>0.0</td>\n",
       "      <td>0.0</td>\n",
       "      <td>0.0</td>\n",
       "      <td>0.0</td>\n",
       "    </tr>\n",
       "    <tr>\n",
       "      <th>...</th>\n",
       "      <td>...</td>\n",
       "      <td>...</td>\n",
       "      <td>...</td>\n",
       "      <td>...</td>\n",
       "      <td>...</td>\n",
       "      <td>...</td>\n",
       "      <td>...</td>\n",
       "      <td>...</td>\n",
       "      <td>...</td>\n",
       "      <td>...</td>\n",
       "      <td>...</td>\n",
       "      <td>...</td>\n",
       "    </tr>\n",
       "    <tr>\n",
       "      <th>8111</th>\n",
       "      <td>0.000005</td>\n",
       "      <td>0.326515</td>\n",
       "      <td>9.987010e-08</td>\n",
       "      <td>0.000008</td>\n",
       "      <td>0.363935</td>\n",
       "      <td>1.025753e-07</td>\n",
       "      <td>0.0</td>\n",
       "      <td>0.0</td>\n",
       "      <td>0.0</td>\n",
       "      <td>0.0</td>\n",
       "      <td>0.0</td>\n",
       "      <td>0.0</td>\n",
       "    </tr>\n",
       "    <tr>\n",
       "      <th>8112</th>\n",
       "      <td>0.000005</td>\n",
       "      <td>0.324797</td>\n",
       "      <td>1.000372e-07</td>\n",
       "      <td>0.000008</td>\n",
       "      <td>0.368180</td>\n",
       "      <td>1.025883e-07</td>\n",
       "      <td>0.0</td>\n",
       "      <td>0.0</td>\n",
       "      <td>0.0</td>\n",
       "      <td>0.0</td>\n",
       "      <td>0.0</td>\n",
       "      <td>0.0</td>\n",
       "    </tr>\n",
       "    <tr>\n",
       "      <th>8113</th>\n",
       "      <td>0.000005</td>\n",
       "      <td>0.326727</td>\n",
       "      <td>1.002074e-07</td>\n",
       "      <td>0.000008</td>\n",
       "      <td>0.369531</td>\n",
       "      <td>1.033286e-07</td>\n",
       "      <td>0.0</td>\n",
       "      <td>0.0</td>\n",
       "      <td>0.0</td>\n",
       "      <td>0.0</td>\n",
       "      <td>0.0</td>\n",
       "      <td>0.0</td>\n",
       "    </tr>\n",
       "    <tr>\n",
       "      <th>8114</th>\n",
       "      <td>0.000005</td>\n",
       "      <td>0.326624</td>\n",
       "      <td>1.003335e-07</td>\n",
       "      <td>0.000008</td>\n",
       "      <td>0.369747</td>\n",
       "      <td>1.026097e-07</td>\n",
       "      <td>0.0</td>\n",
       "      <td>0.0</td>\n",
       "      <td>0.0</td>\n",
       "      <td>0.0</td>\n",
       "      <td>0.0</td>\n",
       "      <td>0.0</td>\n",
       "    </tr>\n",
       "    <tr>\n",
       "      <th>8115</th>\n",
       "      <td>0.000005</td>\n",
       "      <td>0.325441</td>\n",
       "      <td>1.003285e-07</td>\n",
       "      <td>0.000008</td>\n",
       "      <td>0.366333</td>\n",
       "      <td>1.020804e-07</td>\n",
       "      <td>0.0</td>\n",
       "      <td>0.0</td>\n",
       "      <td>0.0</td>\n",
       "      <td>0.0</td>\n",
       "      <td>0.0</td>\n",
       "      <td>0.0</td>\n",
       "    </tr>\n",
       "  </tbody>\n",
       "</table>\n",
       "<p>8116 rows × 12 columns</p>\n",
       "</div>"
      ],
      "text/plain": [
       "      Ch0_time1  Ch0_amp1(V)  Ch0_width1 (s)  Ch0_time2  Ch0_amp2 (V)  \\\n",
       "0      0.000005     0.328362    1.001826e-07   0.000008      0.367517   \n",
       "1      0.000005     0.327641    9.986208e-08   0.000008      0.368875   \n",
       "2      0.000005     0.327204    1.002890e-07   0.000008      0.368034   \n",
       "3      0.000005     0.326785    1.001914e-07   0.000008      0.363687   \n",
       "4      0.000005     0.323183    1.000695e-07   0.000008      0.368148   \n",
       "...         ...          ...             ...        ...           ...   \n",
       "8111   0.000005     0.326515    9.987010e-08   0.000008      0.363935   \n",
       "8112   0.000005     0.324797    1.000372e-07   0.000008      0.368180   \n",
       "8113   0.000005     0.326727    1.002074e-07   0.000008      0.369531   \n",
       "8114   0.000005     0.326624    1.003335e-07   0.000008      0.369747   \n",
       "8115   0.000005     0.325441    1.003285e-07   0.000008      0.366333   \n",
       "\n",
       "      Ch0_width2 (s)  Ch1_time1(s)  Ch1_amp1 (V)  Ch1_width1 (s)  \\\n",
       "0       1.029213e-07           0.0           0.0             0.0   \n",
       "1       1.027111e-07           0.0           0.0             0.0   \n",
       "2       1.033971e-07           0.0           0.0             0.0   \n",
       "3       1.029283e-07           0.0           0.0             0.0   \n",
       "4       1.030929e-07           0.0           0.0             0.0   \n",
       "...              ...           ...           ...             ...   \n",
       "8111    1.025753e-07           0.0           0.0             0.0   \n",
       "8112    1.025883e-07           0.0           0.0             0.0   \n",
       "8113    1.033286e-07           0.0           0.0             0.0   \n",
       "8114    1.026097e-07           0.0           0.0             0.0   \n",
       "8115    1.020804e-07           0.0           0.0             0.0   \n",
       "\n",
       "      Ch1_time2 (s)  Ch1_amp2 (V)  Ch1_width2 (s)  \n",
       "0               0.0           0.0             0.0  \n",
       "1               0.0           0.0             0.0  \n",
       "2               0.0           0.0             0.0  \n",
       "3               0.0           0.0             0.0  \n",
       "4               0.0           0.0             0.0  \n",
       "...             ...           ...             ...  \n",
       "8111            0.0           0.0             0.0  \n",
       "8112            0.0           0.0             0.0  \n",
       "8113            0.0           0.0             0.0  \n",
       "8114            0.0           0.0             0.0  \n",
       "8115            0.0           0.0             0.0  \n",
       "\n",
       "[8116 rows x 12 columns]"
      ]
     },
     "execution_count": 2,
     "metadata": {},
     "output_type": "execute_result"
    }
   ],
   "source": [
    "clock_2"
   ]
  },
  {
   "cell_type": "code",
   "execution_count": 3,
   "id": "1f96fb5a",
   "metadata": {},
   "outputs": [],
   "source": [
    "delay_2 = clock_2.Ch0_time2 - clock_2.Ch0_time1\n",
    "delay_4 = clock_4.Ch0_time2 - clock_4.Ch0_time1\n",
    "delay_8 = clock_8.Ch0_time2 - clock_8.Ch0_time1\n",
    "delay_16 = clock_16.Ch0_time2 - clock_16.Ch0_time1\n",
    "delay_32 = clock_32.Ch0_time2 - clock_32.Ch0_time1"
   ]
  },
  {
   "cell_type": "code",
   "execution_count": 4,
   "id": "3b2e5998",
   "metadata": {},
   "outputs": [
    {
     "data": {
      "text/plain": [
       "0       0.000033\n",
       "1       0.000033\n",
       "2       0.000033\n",
       "3       0.000033\n",
       "4       0.000033\n",
       "          ...   \n",
       "8201    0.000033\n",
       "8202    0.000033\n",
       "8203    0.000033\n",
       "8204    0.000033\n",
       "8205    0.000033\n",
       "Length: 8206, dtype: float64"
      ]
     },
     "execution_count": 4,
     "metadata": {},
     "output_type": "execute_result"
    }
   ],
   "source": [
    "delay_32"
   ]
  },
  {
   "cell_type": "code",
   "execution_count": 37,
   "id": "50c4a1ac",
   "metadata": {},
   "outputs": [
    {
     "name": "stdout",
     "output_type": "stream",
     "text": [
      "Slope: 1.0000040604182157 pm 1.9674308356939768e-06\n",
      "Intercept: 1.0937592100810918 pm 3.249538275872028e-05\n"
     ]
    },
    {
     "data": {
      "text/plain": [
       "Text(0, 0.5, 'Measures Delay in Microseconds')"
      ]
     },
     "execution_count": 37,
     "metadata": {},
     "output_type": "execute_result"
    },
    {
     "data": {
      "image/png": "[encoded data removed]",
      "text/plain": [
       "<Figure size 432x288 with 1 Axes>"
      ]
     },
     "metadata": {
      "needs_background": "light"
     },
     "output_type": "display_data"
    }
   ],
   "source": [
    "x = [2,4,8,16,32]\n",
    "y = 1e6 * np.array([np.mean(delay_2), np.mean(delay_4), np.mean(delay_8), np.mean(delay_16), np.mean(delay_32)])\n",
    "plt.scatter(x, y)\n",
    "p, cov = np.polyfit([2,4,8,16,32], 1e6 * np.array([np.mean(delay_2), np.mean(delay_4), np.mean(delay_8), np.mean(delay_16), np.mean(delay_32)]), deg = 1, cov = True)\n",
    "plt.plot(np.linspace(0,33), p[0]*np.linspace(0,33) + p[1])\n",
    "print(f\"Slope: {p[0]} pm {np.sqrt(cov[0][0])}\")\n",
    "print(f\"Intercept: {p[1]} pm {np.sqrt(cov[1][1])}\")\n",
    "plt.title('Channel 0')\n",
    "plt.xlabel('Set Delay in Microseconds')\n",
    "plt.ylabel('Measures Delay in Microseconds')"
   ]
  },
  {
   "cell_type": "code",
   "execution_count": 38,
   "id": "cdcc7858",
   "metadata": {},
   "outputs": [
    {
     "name": "stdout",
     "output_type": "stream",
     "text": [
      "[2, 4, 8, 16, 32]\n",
      "[ 3.09380237  5.09379986  9.09375462 17.09377138 33.09391957]\n"
     ]
    }
   ],
   "source": [
    "print(x)\n",
    "print(y)"
   ]
  },
  {
   "cell_type": "code",
   "execution_count": 61,
   "id": "77ebe257",
   "metadata": {},
   "outputs": [],
   "source": [
    "#looking at linearity\n",
    "lin_1 = pd.read_csv(\"Linearity_1_final.txt\", sep = \"\t\")\n",
    "lin_2 = pd.read_csv(\"Linearity_2_final.txt\", sep = \"\t\")\n",
    "lin_3 = pd.read_csv(\"Linearity_3_final.txt\", sep = \"\t\")\n",
    "lin_4 = pd.read_csv(\"Linearity_4_final.txt\", sep = \"\t\")\n",
    "lin_5 = pd.read_csv(\"Linearity_5_final.txt\", sep = \"\t\")\n",
    "\n",
    "amp_ch0 = np.array([np.mean(lin_1.Ch0_amp1), np.mean(lin_2.Ch0_amp1), np.mean(lin_3.Ch0_amp1), np.mean(lin_4.Ch0_amp1), np.mean(lin_5.Ch0_amp1)])\n",
    "amp_ch1 = np.array([np.mean(lin_1.Ch1_amp1), np.mean(lin_2.Ch1_amp1), np.mean(lin_3.Ch1_amp1), np.mean(lin_4.Ch1_amp1), np.mean(lin_5.Ch1_amp1)])"
   ]
  },
  {
   "cell_type": "code",
   "execution_count": 69,
   "id": "2ca0118d",
   "metadata": {},
   "outputs": [
    {
     "name": "stdout",
     "output_type": "stream",
     "text": [
      "Slope: 0.9523384187834644 pm 0.00018175406150943728\n"
     ]
    },
    {
     "data": {
      "image/png": "[encoded data removed]",
      "text/plain": [
       "<Figure size 432x288 with 1 Axes>"
      ]
     },
     "metadata": {
      "needs_background": "light"
     },
     "output_type": "display_data"
    },
    {
     "name": "stdout",
     "output_type": "stream",
     "text": [
      "Slope: 0.9248946163006726 pm 0.007996216867633636\n"
     ]
    },
    {
     "data": {
      "image/png": "[encoded data removed]",
      "text/plain": [
       "<Figure size 432x288 with 1 Axes>"
      ]
     },
     "metadata": {
      "needs_background": "light"
     },
     "output_type": "display_data"
    }
   ],
   "source": [
    "x = np.array([0.5,0.75,1,1.25,1.5])\n",
    "plt.scatter(x, amp_ch0)\n",
    "val, err = np.polyfit(x, amp_ch0, deg = 1, cov = True)\n",
    "plt.plot(x, val[0]*x + val[1])\n",
    "print(f\"Slope: {val[0]} pm {err[0][0]}\")\n",
    "plt.title('Channel 0')\n",
    "plt.show()\n",
    "\n",
    "x = np.array([0.5,0.75,1,1.25,1.5])\n",
    "plt.scatter(x, amp_ch1)\n",
    "val, err = np.polyfit(x, amp_ch1, deg = 1, cov = True)\n",
    "plt.plot(x, val[0]*x + val[1])\n",
    "print(f\"Slope: {val[0]} pm {err[0][0]}\")\n",
    "plt.title('Channel 1')\n",
    "plt.show()"
   ]
  },
  {
   "cell_type": "code",
   "execution_count": 6,
   "id": "458c7d1a",
   "metadata": {},
   "outputs": [],
   "source": [
    "sept_8_data = pd.read_csv(\"data/Sept8_weekend_final.txt\", sep = \"\t\")"
   ]
  },
  {
   "cell_type": "code",
   "execution_count": 7,
   "id": "c47ef152",
   "metadata": {},
   "outputs": [],
   "source": [
    "sept_11_data = pd.read_csv(\"data/sept11_final.txt\", sep = \"\t\")"
   ]
  },
  {
   "cell_type": "code",
   "execution_count": 8,
   "id": "30774b93",
   "metadata": {},
   "outputs": [],
   "source": [
    "sept_13_data = pd.read_csv(\"data/sept13_final.txt\", sep = \"\t\")"
   ]
  },
  {
   "cell_type": "code",
   "execution_count": 9,
   "id": "7a4cf85d",
   "metadata": {},
   "outputs": [
    {
     "data": {
      "text/html": [
       "<div>\n",
       "<style scoped>\n",
       "    .dataframe tbody tr th:only-of-type {\n",
       "        vertical-align: middle;\n",
       "    }\n",
       "\n",
       "    .dataframe tbody tr th {\n",
       "        vertical-align: top;\n",
       "    }\n",
       "\n",
       "    .dataframe thead th {\n",
       "        text-align: right;\n",
       "    }\n",
       "</style>\n",
       "<table border=\"1\" class=\"dataframe\">\n",
       "  <thead>\n",
       "    <tr style=\"text-align: right;\">\n",
       "      <th></th>\n",
       "      <th>Ch0_time1</th>\n",
       "      <th>Ch0_amp1 (V)</th>\n",
       "      <th>Ch0_width1 (s)</th>\n",
       "      <th>Ch0_time2</th>\n",
       "      <th>Ch0_amp2 (V)</th>\n",
       "      <th>Ch0_width2 (s)</th>\n",
       "      <th>Ch1_time1 (s)</th>\n",
       "      <th>Ch1_amp1 (V)</th>\n",
       "      <th>Ch1_width1 (s)</th>\n",
       "      <th>Ch1_time2 (s)</th>\n",
       "      <th>Ch1_amp2 (V)</th>\n",
       "      <th>Ch1_width2 (s)</th>\n",
       "    </tr>\n",
       "  </thead>\n",
       "  <tbody>\n",
       "    <tr>\n",
       "      <th>0</th>\n",
       "      <td>9.240000e-07</td>\n",
       "      <td>0.215760</td>\n",
       "      <td>6.104994e-08</td>\n",
       "      <td>0.000003</td>\n",
       "      <td>0.020958</td>\n",
       "      <td>5.427795e-08</td>\n",
       "      <td>0.0</td>\n",
       "      <td>0.0</td>\n",
       "      <td>0.0</td>\n",
       "      <td>0.0</td>\n",
       "      <td>0.0</td>\n",
       "      <td>0.0</td>\n",
       "    </tr>\n",
       "    <tr>\n",
       "      <th>1</th>\n",
       "      <td>9.160000e-07</td>\n",
       "      <td>0.343035</td>\n",
       "      <td>6.600436e-08</td>\n",
       "      <td>0.000004</td>\n",
       "      <td>0.021346</td>\n",
       "      <td>5.121910e-08</td>\n",
       "      <td>0.0</td>\n",
       "      <td>0.0</td>\n",
       "      <td>0.0</td>\n",
       "      <td>0.0</td>\n",
       "      <td>0.0</td>\n",
       "      <td>0.0</td>\n",
       "    </tr>\n",
       "    <tr>\n",
       "      <th>2</th>\n",
       "      <td>9.240000e-07</td>\n",
       "      <td>0.233927</td>\n",
       "      <td>6.563414e-08</td>\n",
       "      <td>0.000007</td>\n",
       "      <td>0.020093</td>\n",
       "      <td>5.557773e-08</td>\n",
       "      <td>0.0</td>\n",
       "      <td>0.0</td>\n",
       "      <td>0.0</td>\n",
       "      <td>0.0</td>\n",
       "      <td>0.0</td>\n",
       "      <td>0.0</td>\n",
       "    </tr>\n",
       "    <tr>\n",
       "      <th>3</th>\n",
       "      <td>9.080000e-07</td>\n",
       "      <td>0.420558</td>\n",
       "      <td>6.889464e-08</td>\n",
       "      <td>0.000003</td>\n",
       "      <td>0.028895</td>\n",
       "      <td>6.382337e-08</td>\n",
       "      <td>0.0</td>\n",
       "      <td>0.0</td>\n",
       "      <td>0.0</td>\n",
       "      <td>0.0</td>\n",
       "      <td>0.0</td>\n",
       "      <td>0.0</td>\n",
       "    </tr>\n",
       "    <tr>\n",
       "      <th>4</th>\n",
       "      <td>9.360000e-07</td>\n",
       "      <td>0.191648</td>\n",
       "      <td>6.463753e-08</td>\n",
       "      <td>0.000002</td>\n",
       "      <td>0.016528</td>\n",
       "      <td>5.363781e-08</td>\n",
       "      <td>0.0</td>\n",
       "      <td>0.0</td>\n",
       "      <td>0.0</td>\n",
       "      <td>0.0</td>\n",
       "      <td>0.0</td>\n",
       "      <td>0.0</td>\n",
       "    </tr>\n",
       "    <tr>\n",
       "      <th>...</th>\n",
       "      <td>...</td>\n",
       "      <td>...</td>\n",
       "      <td>...</td>\n",
       "      <td>...</td>\n",
       "      <td>...</td>\n",
       "      <td>...</td>\n",
       "      <td>...</td>\n",
       "      <td>...</td>\n",
       "      <td>...</td>\n",
       "      <td>...</td>\n",
       "      <td>...</td>\n",
       "      <td>...</td>\n",
       "    </tr>\n",
       "    <tr>\n",
       "      <th>352263</th>\n",
       "      <td>9.240000e-07</td>\n",
       "      <td>0.262954</td>\n",
       "      <td>6.727927e-08</td>\n",
       "      <td>0.000002</td>\n",
       "      <td>0.037008</td>\n",
       "      <td>5.393308e-08</td>\n",
       "      <td>0.0</td>\n",
       "      <td>0.0</td>\n",
       "      <td>0.0</td>\n",
       "      <td>0.0</td>\n",
       "      <td>0.0</td>\n",
       "      <td>0.0</td>\n",
       "    </tr>\n",
       "    <tr>\n",
       "      <th>352264</th>\n",
       "      <td>9.240000e-07</td>\n",
       "      <td>0.308459</td>\n",
       "      <td>7.082314e-08</td>\n",
       "      <td>0.000004</td>\n",
       "      <td>0.058245</td>\n",
       "      <td>6.557383e-08</td>\n",
       "      <td>0.0</td>\n",
       "      <td>0.0</td>\n",
       "      <td>0.0</td>\n",
       "      <td>0.0</td>\n",
       "      <td>0.0</td>\n",
       "      <td>0.0</td>\n",
       "    </tr>\n",
       "    <tr>\n",
       "      <th>352265</th>\n",
       "      <td>9.040000e-07</td>\n",
       "      <td>0.476112</td>\n",
       "      <td>6.800572e-08</td>\n",
       "      <td>0.000004</td>\n",
       "      <td>0.033981</td>\n",
       "      <td>5.438426e-08</td>\n",
       "      <td>0.0</td>\n",
       "      <td>0.0</td>\n",
       "      <td>0.0</td>\n",
       "      <td>0.0</td>\n",
       "      <td>0.0</td>\n",
       "      <td>0.0</td>\n",
       "    </tr>\n",
       "    <tr>\n",
       "      <th>352266</th>\n",
       "      <td>8.880000e-07</td>\n",
       "      <td>0.507472</td>\n",
       "      <td>7.197628e-08</td>\n",
       "      <td>0.000002</td>\n",
       "      <td>0.020018</td>\n",
       "      <td>5.191794e-08</td>\n",
       "      <td>0.0</td>\n",
       "      <td>0.0</td>\n",
       "      <td>0.0</td>\n",
       "      <td>0.0</td>\n",
       "      <td>0.0</td>\n",
       "      <td>0.0</td>\n",
       "    </tr>\n",
       "    <tr>\n",
       "      <th>352267</th>\n",
       "      <td>9.000000e-07</td>\n",
       "      <td>0.468267</td>\n",
       "      <td>6.820299e-08</td>\n",
       "      <td>0.000002</td>\n",
       "      <td>0.019186</td>\n",
       "      <td>5.733268e-08</td>\n",
       "      <td>0.0</td>\n",
       "      <td>0.0</td>\n",
       "      <td>0.0</td>\n",
       "      <td>0.0</td>\n",
       "      <td>0.0</td>\n",
       "      <td>0.0</td>\n",
       "    </tr>\n",
       "  </tbody>\n",
       "</table>\n",
       "<p>352268 rows × 12 columns</p>\n",
       "</div>"
      ],
      "text/plain": [
       "           Ch0_time1  Ch0_amp1 (V)  Ch0_width1 (s)  Ch0_time2  Ch0_amp2 (V)  \\\n",
       "0       9.240000e-07      0.215760    6.104994e-08   0.000003      0.020958   \n",
       "1       9.160000e-07      0.343035    6.600436e-08   0.000004      0.021346   \n",
       "2       9.240000e-07      0.233927    6.563414e-08   0.000007      0.020093   \n",
       "3       9.080000e-07      0.420558    6.889464e-08   0.000003      0.028895   \n",
       "4       9.360000e-07      0.191648    6.463753e-08   0.000002      0.016528   \n",
       "...              ...           ...             ...        ...           ...   \n",
       "352263  9.240000e-07      0.262954    6.727927e-08   0.000002      0.037008   \n",
       "352264  9.240000e-07      0.308459    7.082314e-08   0.000004      0.058245   \n",
       "352265  9.040000e-07      0.476112    6.800572e-08   0.000004      0.033981   \n",
       "352266  8.880000e-07      0.507472    7.197628e-08   0.000002      0.020018   \n",
       "352267  9.000000e-07      0.468267    6.820299e-08   0.000002      0.019186   \n",
       "\n",
       "        Ch0_width2 (s)  Ch1_time1 (s)  Ch1_amp1 (V)  Ch1_width1 (s)  \\\n",
       "0         5.427795e-08            0.0           0.0             0.0   \n",
       "1         5.121910e-08            0.0           0.0             0.0   \n",
       "2         5.557773e-08            0.0           0.0             0.0   \n",
       "3         6.382337e-08            0.0           0.0             0.0   \n",
       "4         5.363781e-08            0.0           0.0             0.0   \n",
       "...                ...            ...           ...             ...   \n",
       "352263    5.393308e-08            0.0           0.0             0.0   \n",
       "352264    6.557383e-08            0.0           0.0             0.0   \n",
       "352265    5.438426e-08            0.0           0.0             0.0   \n",
       "352266    5.191794e-08            0.0           0.0             0.0   \n",
       "352267    5.733268e-08            0.0           0.0             0.0   \n",
       "\n",
       "        Ch1_time2 (s)  Ch1_amp2 (V)  Ch1_width2 (s)  \n",
       "0                 0.0           0.0             0.0  \n",
       "1                 0.0           0.0             0.0  \n",
       "2                 0.0           0.0             0.0  \n",
       "3                 0.0           0.0             0.0  \n",
       "4                 0.0           0.0             0.0  \n",
       "...               ...           ...             ...  \n",
       "352263            0.0           0.0             0.0  \n",
       "352264            0.0           0.0             0.0  \n",
       "352265            0.0           0.0             0.0  \n",
       "352266            0.0           0.0             0.0  \n",
       "352267            0.0           0.0             0.0  \n",
       "\n",
       "[352268 rows x 12 columns]"
      ]
     },
     "execution_count": 9,
     "metadata": {},
     "output_type": "execute_result"
    }
   ],
   "source": [
    "sept_8_data"
   ]
  },
  {
   "cell_type": "code",
   "execution_count": 10,
   "id": "d2f3aaf8",
   "metadata": {},
   "outputs": [],
   "source": [
    "delays_8 = sept_8_data.Ch0_time2 - sept_8_data.Ch0_time1"
   ]
  },
  {
   "cell_type": "code",
   "execution_count": 11,
   "id": "23ab2b88",
   "metadata": {},
   "outputs": [],
   "source": [
    "delays_11 = sept_11_data.Ch0_time2 - sept_11_data.Ch0_time1\n",
    "pulse_11a_height = sept_11_data.Ch0_amp1\n",
    "pulse_11b_height = sept_11_data.Ch0_amp2\n",
    "pulse_11a_width = sept_11_data.Ch0_width1\n",
    "pulse_11b_width = sept_11_data.Ch0_width2"
   ]
  },
  {
   "cell_type": "code",
   "execution_count": 12,
   "id": "b8ce72fa",
   "metadata": {},
   "outputs": [],
   "source": [
    "delays_13 = sept_13_data.Ch0_time2 - sept_13_data.Ch0_time1\n",
    "pulse_13a_height = sept_13_data.Ch0_amp1\n",
    "pulse_13b_height = sept_13_data.Ch0_amp2\n",
    "pulse_13a_width = sept_13_data.Ch0_width1\n",
    "pulse_13b_width = sept_13_data.Ch0_width2"
   ]
  },
  {
   "cell_type": "code",
   "execution_count": 13,
   "id": "52727557",
   "metadata": {},
   "outputs": [],
   "source": [
    "delays_final = pd.concat([delays_11, delays_13])\n",
    "pulse_a_height = pd.concat([pulse_11a_height, pulse_13a_height])\n",
    "pulse_b_height = pd.concat([pulse_11b_height, pulse_13b_height])\n",
    "pulse_a_width = pd.concat([pulse_11a_width, pulse_13a_width])\n",
    "pulse_b_width = pd.concat([pulse_11b_width, pulse_13b_width])"
   ]
  },
  {
   "cell_type": "code",
   "execution_count": 14,
   "id": "4daf05a2",
   "metadata": {},
   "outputs": [
    {
     "name": "stdout",
     "output_type": "stream",
     "text": [
      "Requirement already satisfied: histlite in c:\\users\\shrey\\appdata\\roaming\\python\\python39\\site-packages (2022.8.26)\n",
      "Requirement already satisfied: scipy in c:\\users\\shrey\\anaconda3\\lib\\site-packages (from histlite) (1.7.1)\n",
      "Requirement already satisfied: numpy in c:\\users\\shrey\\anaconda3\\lib\\site-packages (from histlite) (1.20.3)\n",
      "Note: you may need to restart the kernel to use updated packages.\n"
     ]
    }
   ],
   "source": [
    "pip install --user histlite"
   ]
  },
  {
   "cell_type": "code",
   "execution_count": 15,
   "id": "d51e3a48",
   "metadata": {},
   "outputs": [
    {
     "name": "stdout",
     "output_type": "stream",
     "text": [
      "Fitted Lifetime: 3.383e-07 pm 3.04e-16\n",
      "[ 2.43301165e+06  3.38273414e-07 -3.63865556e+08  3.08149669e+03]\n"
     ]
    },
    {
     "data": {
      "image/png": "[encoded data removed]",
      "text/plain": [
       "<Figure size 432x288 with 1 Axes>"
      ]
     },
     "metadata": {
      "needs_background": "light"
     },
     "output_type": "display_data"
    }
   ],
   "source": [
    "import histlite as hl\n",
    "\n",
    "def decay_fit(x,A,t,m,b):\n",
    "    return A*np.exp(-(x)/t)+m*x+b\n",
    "\n",
    "h1 = hl.hist(delays_8, bins = np.linspace(2e-6,7e-6))\n",
    "popt, pcov = curve_fit(decay_fit, xdata = h1.centers[0], ydata = h1.values, p0 = [8000,2.2e-6,-1e6,1000])\n",
    "\n",
    "x = np.linspace(2e-6,7e-6,100)\n",
    "hl.plot1d(h1)\n",
    "plt.plot(x, decay_fit(x,popt[0], popt[1],popt[2],popt[3]))\n",
    "print(f\"Fitted Lifetime: {popt[1]:.4} pm {pcov[1][1]:.4}\")\n",
    "print(popt)"
   ]
  },
  {
   "cell_type": "code",
   "execution_count": 16,
   "id": "417917f0",
   "metadata": {},
   "outputs": [
    {
     "name": "stdout",
     "output_type": "stream",
     "text": [
      "Fitted Lifetime: 3.383e-07 pm 3.04e-16\n",
      "[ 2.43295595e+06  3.38274678e-07 -3.63864454e+08  4.95699041e+03]\n"
     ]
    },
    {
     "data": {
      "image/png": "[encoded data removed]",
      "text/plain": [
       "<Figure size 432x288 with 1 Axes>"
      ]
     },
     "metadata": {
      "needs_background": "light"
     },
     "output_type": "display_data"
    }
   ],
   "source": [
    "values_corr = h1.values + (-1.691e-6 * np.array(h1.centers[0]) + 1875.5)\n",
    "\n",
    "popt2, pcov2 = curve_fit(decay_fit, xdata = h1.centers[0], ydata = values_corr, p0 = [8000,2.2e-6,-1e6,1000])\n",
    "\n",
    "hl.plot1d(h1)\n",
    "plt.plot(x, decay_fit(x,popt2[0], popt2[1],popt2[2],popt2[3]))\n",
    "print(f\"Fitted Lifetime: {popt2[1]:.4} pm {pcov2[1][1]:.4}\")\n",
    "print(popt2)"
   ]
  },
  {
   "cell_type": "code",
   "execution_count": null,
   "id": "447a0660",
   "metadata": {},
   "outputs": [],
   "source": []
  },
  {
   "cell_type": "code",
   "execution_count": 17,
   "id": "93024e36",
   "metadata": {},
   "outputs": [],
   "source": [
    "ch1_delay = pd.read_csv(\"Efficiency_Ch1_final.txt\", sep = \"\t\")"
   ]
  },
  {
   "cell_type": "code",
   "execution_count": 18,
   "id": "c5072ce2",
   "metadata": {},
   "outputs": [],
   "source": [
    "times = ch1_delay.Ch1_time2 - ch1_delay.Ch1_time1"
   ]
  },
  {
   "cell_type": "code",
   "execution_count": 19,
   "id": "fe821630",
   "metadata": {},
   "outputs": [
    {
     "data": {
      "image/png": "[encoded data removed]",
      "text/plain": [
       "<Figure size 432x288 with 1 Axes>"
      ]
     },
     "metadata": {
      "needs_background": "light"
     },
     "output_type": "display_data"
    }
   ],
   "source": [
    "h2 = hl.hist(times, bins = np.linspace(0,1e-5,1000))\n",
    "hl.plot1d(h2)"
   ]
  },
  {
   "cell_type": "code",
   "execution_count": null,
   "id": "79cc2dc3",
   "metadata": {},
   "outputs": [],
   "source": []
  },
  {
   "cell_type": "code",
   "execution_count": 20,
   "id": "ea64b4dd",
   "metadata": {},
   "outputs": [
    {
     "data": {
      "text/plain": [
       "[<matplotlib.lines.Line2D at 0x21eeddc1790>]"
      ]
     },
     "execution_count": 20,
     "metadata": {},
     "output_type": "execute_result"
    },
    {
     "data": {
      "image/png": "[encoded data removed]",
      "text/plain": [
       "<Figure size 432x288 with 1 Axes>"
      ]
     },
     "metadata": {
      "needs_background": "light"
     },
     "output_type": "display_data"
    }
   ],
   "source": [
    "h_11_2 = hl.hist(delays_11, bins = np.linspace(1e-5,2e-5))\n",
    "popt_11_2, pcov_11_2 = np.polyfit(h_11_2.centers[0], h_11_2.values, deg = 1, cov = True)\n",
    "\n",
    "x_11_2 = np.linspace(1e-5,2e-5,1000)\n",
    "hl.plot1d(h_11_2)\n",
    "plt.plot(x_11_2, x_11_2*popt_11_2[0] + popt_11_2[1])"
   ]
  },
  {
   "cell_type": "code",
   "execution_count": 21,
   "id": "5adc471a",
   "metadata": {},
   "outputs": [
    {
     "name": "stdout",
     "output_type": "stream",
     "text": [
      "Fitted Lifetime: 2.196e-06 pm 1.88e-14\n",
      "[1.61956588e+04 2.19554527e-06]\n"
     ]
    },
    {
     "data": {
      "image/png": "[encoded data removed]",
      "text/plain": [
       "<Figure size 432x288 with 1 Axes>"
      ]
     },
     "metadata": {
      "needs_background": "light"
     },
     "output_type": "display_data"
    }
   ],
   "source": [
    "h_11 = hl.hist(delays_11, bins = np.linspace(2.2e-6,2e-5))\n",
    "\n",
    "def decay_fit_2(x,A,t):\n",
    "    return A*np.exp(-(x)/t) + (popt_11_2[0]*x+popt_11_2[1])\n",
    "\n",
    "y_corr = h_11.values\n",
    "popt_11, pcov_11 = curve_fit(decay_fit_2, xdata = h_11.centers[0], ydata = y_corr, p0 = [10000,2.2e-6])\n",
    "\n",
    "# values_corr = h_11.values + (-1.691e-6 * np.array(h_11.centers[0]) + 1875.5)\n",
    "popt_11_3, pcov_11_3 = curve_fit(decay_fit_2, xdata = h_11.centers[0], ydata = values_corr, p0 = [10000,2.2e-6])\n",
    "\n",
    "x_11 = np.linspace(2.2e-6,2e-5,1000)\n",
    "hl.plot1d(h_11)\n",
    "plt.plot(x_11, decay_fit_2(x_11,popt_11[0], popt_11[1]))\n",
    "print(f\"Fitted Lifetime: {popt_11[1]:.4} pm {pcov_11[1][1]:.4}\")\n",
    "# plt.yscale('log')\n",
    "print(popt_11)"
   ]
  },
  {
   "cell_type": "code",
   "execution_count": 22,
   "id": "981a9254",
   "metadata": {},
   "outputs": [],
   "source": [
    "h_11 = hl.hist(delays_11, bins = np.linspace(2.2e-6,2e-5))"
   ]
  },
  {
   "cell_type": "code",
   "execution_count": 104,
   "id": "77e28a9d",
   "metadata": {},
   "outputs": [
    {
     "data": {
      "text/plain": [
       "386411"
      ]
     },
     "execution_count": 104,
     "metadata": {},
     "output_type": "execute_result"
    }
   ],
   "source": [
    "len(delays_final.values)"
   ]
  },
  {
   "cell_type": "code",
   "execution_count": 24,
   "id": "042b3bf7",
   "metadata": {},
   "outputs": [],
   "source": [
    "h_fin_2 = hl.hist(delays_final.values, bins = np.linspace(2.2e-6,2e-5))\n"
   ]
  },
  {
   "cell_type": "markdown",
   "id": "c1acc7c6",
   "metadata": {},
   "source": [
    "## CUTS AND CALLIBRATION\n",
    "We expect wide range of initial trigger values since there is trigger set and we expect muon amplitudes to range a decent bit. However, since there is a narrow time and amplitude cutoff for the second trigger, these are most often muon decay pulses and thus far more narrowly distributed. A cut to apply would be to remove the pulses that fall in the overlap of about over 0.15-0.2V as these could include muon muon events and not just muon decay events. Additionally since there is a slight slope in the log scale to the uncorrelated counts we should apply that callibration feature here as well. Since there is a nearly perfect callibration of the digitizer clock, slope of 1.000004, we will not be adjusting the data but rather will include this in our error analysis."
   ]
  },
  {
   "cell_type": "code",
   "execution_count": 25,
   "id": "9b74fa01",
   "metadata": {},
   "outputs": [
    {
     "data": {
      "image/png": "[encoded data removed]",
      "text/plain": [
       "<Figure size 432x288 with 1 Axes>"
      ]
     },
     "metadata": {
      "needs_background": "light"
     },
     "output_type": "display_data"
    },
    {
     "data": {
      "image/png": "[encoded data removed]",
      "text/plain": [
       "<Figure size 432x288 with 1 Axes>"
      ]
     },
     "metadata": {
      "needs_background": "light"
     },
     "output_type": "display_data"
    }
   ],
   "source": [
    "#inspecting the pulse heights and widths\n",
    "plt.hist(pulse_a_height, bins = 100, label = 'pulse 1')\n",
    "plt.hist(pulse_b_height, bins = 100, label = 'pulse 2')\n",
    "plt.legend()\n",
    "plt.title('Pulse Amplitudes')\n",
    "plt.xlabel('Volts')\n",
    "plt.show()\n",
    "\n",
    "plt.hist(pulse_a_width, bins = 100, label = 'pulse 1')\n",
    "plt.hist(pulse_b_width, bins = 100, label = 'pulse 2')\n",
    "plt.legend()\n",
    "plt.title('Pulse Widths')\n",
    "plt.show()"
   ]
  },
  {
   "cell_type": "code",
   "execution_count": 105,
   "id": "02444b18",
   "metadata": {},
   "outputs": [],
   "source": [
    "keep = pulse_b_height < .1\n",
    "delays_cut_final = delays_final[keep]\n"
   ]
  },
  {
   "cell_type": "code",
   "execution_count": 106,
   "id": "cc8a01bc",
   "metadata": {},
   "outputs": [
    {
     "data": {
      "text/plain": [
       "(array([68508., 82206., 28434., 19049., 15628., 11846.,  8119.,  5925.,\n",
       "         5133.,  4605.,  3898.,  3628.,  3332.,  3037.,  2816.,  2543.,\n",
       "         2431.,  2340.,  2237.,  2108.,  1987.,  1859.,  1825.,  1769.,\n",
       "         1714.,  1564.,  1543.,  1424.,  1545.,  1458.,  1397.,  1370.,\n",
       "         1381.,  1320.,  1244.,  1231.,  1172.,  1220.,  1206.,  1133.,\n",
       "         1134.,  1101.,  1086.,  1049.,  1060.,  1048.,   995.,   955.,\n",
       "         1022.,   954.,   934.,  1000.,   950.,   919.,   946.,  1015.,\n",
       "          916.,   903.,   928.,   978.,   897.,   917.,   874.,   846.,\n",
       "          926.,   870.,   868.,   890.,   845.,   959.,   845.,   838.,\n",
       "          847.,   814.,   900.,   856.,   862.,   791.,   825.,   863.,\n",
       "          860.,   802.,   806.,   865.,   820.,   829.,   789.,   873.,\n",
       "          820.,   816.,   827.,   786.,   843.,   757.,   776.,   817.,\n",
       "          789.,   781.,   755.,   413.]),\n",
       " array([1.000000e-06, 1.191240e-06, 1.382480e-06, 1.573720e-06,\n",
       "        1.764960e-06, 1.956200e-06, 2.147440e-06, 2.338680e-06,\n",
       "        2.529920e-06, 2.721160e-06, 2.912400e-06, 3.103640e-06,\n",
       "        3.294880e-06, 3.486120e-06, 3.677360e-06, 3.868600e-06,\n",
       "        4.059840e-06, 4.251080e-06, 4.442320e-06, 4.633560e-06,\n",
       "        4.824800e-06, 5.016040e-06, 5.207280e-06, 5.398520e-06,\n",
       "        5.589760e-06, 5.781000e-06, 5.972240e-06, 6.163480e-06,\n",
       "        6.354720e-06, 6.545960e-06, 6.737200e-06, 6.928440e-06,\n",
       "        7.119680e-06, 7.310920e-06, 7.502160e-06, 7.693400e-06,\n",
       "        7.884640e-06, 8.075880e-06, 8.267120e-06, 8.458360e-06,\n",
       "        8.649600e-06, 8.840840e-06, 9.032080e-06, 9.223320e-06,\n",
       "        9.414560e-06, 9.605800e-06, 9.797040e-06, 9.988280e-06,\n",
       "        1.017952e-05, 1.037076e-05, 1.056200e-05, 1.075324e-05,\n",
       "        1.094448e-05, 1.113572e-05, 1.132696e-05, 1.151820e-05,\n",
       "        1.170944e-05, 1.190068e-05, 1.209192e-05, 1.228316e-05,\n",
       "        1.247440e-05, 1.266564e-05, 1.285688e-05, 1.304812e-05,\n",
       "        1.323936e-05, 1.343060e-05, 1.362184e-05, 1.381308e-05,\n",
       "        1.400432e-05, 1.419556e-05, 1.438680e-05, 1.457804e-05,\n",
       "        1.476928e-05, 1.496052e-05, 1.515176e-05, 1.534300e-05,\n",
       "        1.553424e-05, 1.572548e-05, 1.591672e-05, 1.610796e-05,\n",
       "        1.629920e-05, 1.649044e-05, 1.668168e-05, 1.687292e-05,\n",
       "        1.706416e-05, 1.725540e-05, 1.744664e-05, 1.763788e-05,\n",
       "        1.782912e-05, 1.802036e-05, 1.821160e-05, 1.840284e-05,\n",
       "        1.859408e-05, 1.878532e-05, 1.897656e-05, 1.916780e-05,\n",
       "        1.935904e-05, 1.955028e-05, 1.974152e-05, 1.993276e-05,\n",
       "        2.012400e-05]),\n",
       " <BarContainer object of 100 artists>)"
      ]
     },
     "execution_count": 106,
     "metadata": {},
     "output_type": "execute_result"
    },
    {
     "data": {
      "image/png": "[encoded data removed]",
      "text/plain": [
       "<Figure size 432x288 with 1 Axes>"
      ]
     },
     "metadata": {
      "needs_background": "light"
     },
     "output_type": "display_data"
    }
   ],
   "source": [
    "# plt.hist(delays_final, bins = 100)\n",
    "plt.hist(delays_cut_final, bins = 100)"
   ]
  },
  {
   "cell_type": "code",
   "execution_count": 107,
   "id": "72081925",
   "metadata": {},
   "outputs": [
    {
     "name": "stdout",
     "output_type": "stream",
     "text": [
      "[-2.1762000e+07 -6.2336049e+02]\n"
     ]
    },
    {
     "data": {
      "image/png": "[encoded data removed]",
      "text/plain": [
       "<Figure size 432x288 with 1 Axes>"
      ]
     },
     "metadata": {
      "needs_background": "light"
     },
     "output_type": "display_data"
    }
   ],
   "source": [
    "h_11_2 = hl.hist(delays_cut_final.values, bins = np.linspace(1e-5,2e-5))\n",
    "y_cut_final = h_11_2.values - (-1.691e-6 * h_11_2.centers[0] + 1875.566)\n",
    "h_11_2_fin = hl.Hist(np.linspace(1e-5,2e-5), y_cut_final)\n",
    "popt_11_2_fin, pcov_11_2_fin = np.polyfit(h_11_2_fin.centers[0], h_11_2_fin.values, deg = 1, cov = True)\n",
    "\n",
    "x_11_2_fin = np.linspace(1e-5,2e-5,1000)\n",
    "hl.plot1d(h_11_2_fin)\n",
    "plt.plot(x_11_2_fin, x_11_2_fin*popt_11_2_fin[0] + popt_11_2_fin[1])\n",
    "print(popt_11_2_fin)"
   ]
  },
  {
   "cell_type": "markdown",
   "id": "81e4a6d2",
   "metadata": {},
   "source": [
    "## FITTING THE DATA AND GETTING THE LIEFTIME"
   ]
  },
  {
   "cell_type": "code",
   "execution_count": 116,
   "id": "df98b240",
   "metadata": {},
   "outputs": [
    {
     "name": "stderr",
     "output_type": "stream",
     "text": [
      "No handles with labels found to put in legend.\n"
     ]
    },
    {
     "data": {
      "image/png": "[encoded data removed]",
      "text/plain": [
       "<Figure size 432x288 with 1 Axes>"
      ]
     },
     "metadata": {
      "needs_background": "light"
     },
     "output_type": "display_data"
    },
    {
     "name": "stdout",
     "output_type": "stream",
     "text": [
      "2.2325050651491687e-06\n"
     ]
    },
    {
     "data": {
      "image/png": "[encoded data removed]",
      "text/plain": [
       "<Figure size 432x288 with 1 Axes>"
      ]
     },
     "metadata": {
      "needs_background": "light"
     },
     "output_type": "display_data"
    }
   ],
   "source": [
    "#using the logscale plot we know we want to be fitting from \n",
    "h_11_fin_2 = hl.hist(delays_cut_final.values, bins = np.linspace(2e-6,2e-5))\n",
    "\n",
    "def decay_fit_2(x,A,t):\n",
    "    return A*np.exp(-(x)/t) \n",
    "\n",
    "y_11_corr = h_11_fin_2.values - (popt_11_2_fin[0]*np.linspace(2e-6,2e-5, 49)  + popt_11_2_fin[1])\n",
    "h_11_fin_2_corr = hl.Hist(np.linspace(2e-6,2e-5), y_11_corr, weights = np.sqrt(1/y_11_corr))\n",
    "\n",
    "\n",
    "total_x = h_11_fin_2_corr.centers[0]\n",
    "total_y = h_11_fin_2_corr.values\n",
    "\n",
    "index = (total_x > .25e-5) & (total_x < .5e-5)\n",
    "\n",
    "final_x = np.array(total_x[index])\n",
    "final_y = np.array(total_y[index])\n",
    "\n",
    "err_cut_1 = np.sqrt((0.431e-6*final_x)**2 + 12.079**2) \n",
    "err_cut_2 = np.sqrt((pcov_11_2_fin[0][0]*final_x)**2 + pcov_11_2_fin[1][1]**2)\n",
    "err_tot = np.sqrt(np.sqrt(1/final_y)**2 + err_cut_1**2 + err_cut_2**2)\n",
    "popt_final, pcov_final = curve_fit(decay_fit_2, xdata = final_x, ydata = final_y, p0 = [10000,2e-6], sigma = err_tot)\n",
    "\n",
    "\n",
    "plt.scatter(total_x, total_y)\n",
    "plt.scatter(final_x, final_y)\n",
    "plt.plot(np.linspace(2e-6,2e-5), decay_fit_2(np.linspace(2e-6,2e-5), popt_final[0], popt_final[1]))\n",
    "plt.yscale('log')\n",
    "plt.axvline(0.25e-5)\n",
    "plt.axvline(0.5e-5)\n",
    "plt.legend()\n",
    "plt.show()\n",
    "plt.scatter(total_x, total_y)\n",
    "plt.scatter(final_x, final_y)\n",
    "plt.plot(np.linspace(2e-6,2e-5), decay_fit_2(np.linspace(2e-6,2e-5), popt_final[0], popt_final[1]))\n",
    "plt.xlim(1e-6,1e-5)\n",
    "plt.yscale('log')\n",
    "print(popt_final[1])\n",
    "\n",
    "#add chi-square estimates"
   ]
  },
  {
   "cell_type": "code",
   "execution_count": 117,
   "id": "1fd6d883",
   "metadata": {},
   "outputs": [
    {
     "name": "stdout",
     "output_type": "stream",
     "text": [
      "Fitted Lifetime: 2.233e-06 pm 1.743e-08\n"
     ]
    },
    {
     "data": {
      "text/plain": [
       "<histlite.LineStyle at 0x21ef1502d60>"
      ]
     },
     "execution_count": 117,
     "metadata": {},
     "output_type": "execute_result"
    },
    {
     "data": {
      "image/png": "[encoded data removed]",
      "text/plain": [
       "<Figure size 432x288 with 1 Axes>"
      ]
     },
     "metadata": {
      "needs_background": "light"
     },
     "output_type": "display_data"
    }
   ],
   "source": [
    "hl.plot1d(h_11_fin_2_corr)\n",
    "plt.plot(total_x, decay_fit_2(total_x, popt_final[0], popt_final[1]))\n",
    "print(f\"Fitted Lifetime: {popt_final[1]:.4} pm {np.sqrt(pcov[1][1]):.4}\")\n",
    "plt.xlim(2e-6,2e-5)\n",
    "hl.LineStyle(errorbars = True)"
   ]
  },
  {
   "cell_type": "markdown",
   "id": "34b22cd0",
   "metadata": {},
   "source": [
    "## ERROR ANALYSIS"
   ]
  },
  {
   "cell_type": "markdown",
   "id": "ef953019",
   "metadata": {},
   "source": [
    "### Muon Capture\n",
    "Some negatively charged muons get captured by the carbon nuclei in the oil scintillator. \\\n",
    "$\\lambda_{combined} = \\lambda_{decay} + \\lambda_{captured}$ --> free decaying $\\mu^-$ also decay with this rate\n",
    "\n",
    "Since we assume that half of the observed decays are from $\\mu^-$ we can reduce the given formula to $A$\n",
    "\n",
    "Error -->\n",
    "$\\tau_T - \\tau_E = \\frac{\\mu_d^-+2\\mu_c^-}{2\\mu_d^-(\\mu_d^-+\\mu_c^-)}$"
   ]
  },
  {
   "cell_type": "markdown",
   "id": "5c245e2f",
   "metadata": {},
   "source": [
    "### Error Propogation\n",
    "Sources of Error:\n",
    "- negelecting muon capture --> systematic\n",
    "- the errors in the callibration fits that are used to make cuts --> systematic\n",
    "- the time resolution of the digitizer --> systematic\n",
    "- sample error since muon flux is a poisson distribution  --> statistical\n",
    "- fit errors: covariance matrix --> systematic\n",
    "\n",
    "The second and third are added in as weights to the fit because they affect the data the fit is supposed to fit too and hence bins with smaller errors should be weighted higher in a fit. Since these are all independent errors the total uncertainty estimate can be found by adding these errors in quadruture. Since we do not care about the value of the entire fit but rather just the value of lifetime it is not necessary to account for the error of the amplitude value in the fit since this value does not impact our final results. "
   ]
  },
  {
   "cell_type": "code",
   "execution_count": 118,
   "id": "8967cc10",
   "metadata": {},
   "outputs": [
    {
     "name": "stdout",
     "output_type": "stream",
     "text": [
      "1.1858156028368796e-06\n",
      "Fitted Lifetime: 2.233e-06 pm 1.186e-06\n",
      "Known Lifetime: 2.197e-06\n",
      "Does the fitted value agree with the nominal value? True\n"
     ]
    }
   ],
   "source": [
    "mu_d = 1/(2.2e-6)\n",
    "mu_c = 1/(26e-6)\n",
    "err_mu_c = (mu_d + 2*mu_c)/(2*mu_d*(mu_d+mu_c))\n",
    "print(err_mu_c)\n",
    "err_time = 2.96e-8\n",
    "err_fit = np.sqrt(pcov[1][1])\n",
    "err = np.sqrt(err_mu_c**2 + err_time**2 + err_fit**2)\n",
    "lifetime = popt_final[1]\n",
    "print(f\"Fitted Lifetime: {lifetime:.4} pm {err:.4}\\nKnown Lifetime: 2.197e-06\")\n",
    "print(f\"Does the fitted value agree with the nominal value? {np.abs(popt_final[1] - 2.197e-6) <= err}\")"
   ]
  },
  {
   "cell_type": "markdown",
   "id": "c5f1bab1",
   "metadata": {},
   "source": [
    "## FERMI COUPLING CONSTANT\n",
    "From Thomson's Modern Particle Physics Chapter 11 Section 5: \\\n",
    "$\\frac{1}{\\tau_\\mu} = \\frac{{G_F}^2{m_\\mu}^5}{192\\pi^3} \\implies G_F = \\sqrt{\\frac{192\\pi^3}{\\tau_\\mu{m_\\mu}^5}}$ \\\n",
    "We know the mass of the muon to be 105.658 $\\pm$ .23e-5 Mev --> pdg\n",
    "For the purposes of simplification as is done in Thomson we will assume no uncertainty on the muon mass. This calculation can be done with that but then we must also account for the uncertainty in the nominal value of G_F\n",
    "\n",
    "With error propogation we get: \\\n",
    "$\\sigma_{G_F} = \\sqrt{(\\sigma_\\tau^2*(\\frac{192\\pi^3}{4\\tau^3m^5})}$\n",
    "\n",
    "Since the formula is working in natural units we need to convert lifetime to natural units as well so dividing by hbar. Getting the known value for G_F from Thomson as well."
   ]
  },
  {
   "cell_type": "code",
   "execution_count": 119,
   "id": "4fcf1f87",
   "metadata": {},
   "outputs": [
    {
     "name": "stdout",
     "output_type": "stream",
     "text": [
      "Calculated G_F = 1.155e-05 pm 3.067e-06 GeV^-2\n",
      "Nominal Value for G_F: 1.166e−5 GeV^−2\n",
      "Does the fitted value agree with the nominal value? True\n"
     ]
    }
   ],
   "source": [
    "m = 105.658e6**5\n",
    "adj_life = (lifetime/6.582119569e-16)\n",
    "adj_err = (err/6.582119569e-16)\n",
    "G = np.sqrt((192*(np.pi**3))/(adj_life*m))\n",
    "\n",
    "err_G = np.sqrt(adj_err**2 * (192*np.pi**3)/(4*m*adj_life**3))\n",
    "print(f\"Calculated G_F = {G*(1e9)**2:.4} pm {err_G*(1e9)**2:.4} GeV^-2\")\n",
    "print(f\"Nominal Value for G_F: 1.166e−5 GeV^−2\")\n",
    "print(f\"Does the fitted value agree with the nominal value? {np.abs(G*(1e9)**2 - 1.166e-5) <= err_G*(1e9)**2}\")"
   ]
  },
  {
   "cell_type": "markdown",
   "id": "6ab1ce86",
   "metadata": {},
   "source": [
    "## SIMULATIONS\n",
    "$P(r)dr = 1$  \\\n",
    "$t = -\\tau ln(r)$ \\\n",
    "$P(t)dt = 1*\\frac{dt}{dr} = $ "
   ]
  },
  {
   "cell_type": "code",
   "execution_count": 138,
   "id": "dc01feff",
   "metadata": {},
   "outputs": [
    {
     "data": {
      "text/plain": [
       "0.928400802989653"
      ]
     },
     "execution_count": 138,
     "metadata": {},
     "output_type": "execute_result"
    }
   ],
   "source": [
    "np.random.rand()"
   ]
  },
  {
   "cell_type": "code",
   "execution_count": 165,
   "id": "ba0860d0",
   "metadata": {},
   "outputs": [
    {
     "name": "stderr",
     "output_type": "stream",
     "text": [
      "C:\\Users\\shrey\\AppData\\Local\\Temp/ipykernel_13900/168199009.py:13: VisibleDeprecationWarning: Creating an ndarray from ragged nested sequences (which is a list-or-tuple of lists-or-tuples-or ndarrays with different lengths or shapes) is deprecated. If you meant to do this, you must specify 'dtype=object' when creating the ndarray.\n",
      "  t = np.array([gen_t(i) for i in n])\n"
     ]
    },
    {
     "data": {
      "text/plain": [
       "<matplotlib.legend.Legend at 0x20417377af0>"
      ]
     },
     "execution_count": 165,
     "metadata": {},
     "output_type": "execute_result"
    },
    {
     "data": {
      "image/png": "[encoded data removed]",
      "text/plain": [
       "<Figure size 432x288 with 1 Axes>"
      ]
     },
     "metadata": {
      "needs_background": "light"
     },
     "output_type": "display_data"
    }
   ],
   "source": [
    "def gen_t(n):\n",
    "    t = np.array([])\n",
    "    for i in range(n):\n",
    "        t = np.append(t, -2.197e-6*np.log(np.random.rand()))\n",
    "    return t\n",
    "\n",
    "def lifetime(t):\n",
    "    hist = hl.hist(t, bins = np.linspace(1e-6,2e-5))\n",
    "    popt, pcov = curve_fit(decay_fit_2, hist.centers[0], hist.values, p0 = [len(t),2e-6])\n",
    "    return [popt[1], pcov[1][1]]\n",
    "\n",
    "n = np.array([100,1000,10000, 100000])\n",
    "t = np.array([gen_t(i) for i in n])\n",
    "sols = np.array([lifetime(a) for a in t])\n",
    "life = [i[0] for i in sols]\n",
    "err = [np.sqrt(i[1]) for i in sols]\n",
    "plt.errorbar(n,life, yerr = err, fmt=\"o\", label = 'Simulated')\n",
    "plt.xscale('log')\n",
    "plt.axhline(2.197e-6, label = 'Accepted')\n",
    "plt.xlabel('Data Points')\n",
    "plt.ylabel('Mean Lifetime')\n",
    "plt.title('Fit Dependency on Number of Samples Simulation')\n",
    "plt.legend()"
   ]
  },
  {
   "cell_type": "code",
   "execution_count": null,
   "id": "f1b1b312",
   "metadata": {},
   "outputs": [],
   "source": []
  }
 ],
 "metadata": {
  "kernelspec": {
   "display_name": "Python 3 (ipykernel)",
   "language": "python",
   "name": "python3"
  },
  "language_info": {
   "codemirror_mode": {
    "name": "ipython",
    "version": 3
   },
   "file_extension": ".py",
   "mimetype": "text/x-python",
   "name": "python",
   "nbconvert_exporter": "python",
   "pygments_lexer": "ipython3",
   "version": "3.8.16"
  }
 },
 "nbformat": 4,
 "nbformat_minor": 5
}
